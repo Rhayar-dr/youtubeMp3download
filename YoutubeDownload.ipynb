import os
import yt_dlp

def download_youtube_video_as_mp3(url):
    outtmpl = '%(title)s.%(ext)s'
    ydl_opts = {
        'format': 'bestaudio/best',
        'outtmpl': outtmpl,
        'postprocessors': [{
            'key': 'FFmpegExtractAudio',
            'preferredcodec': 'mp3',
            'preferredquality': '192',
        }],
    }

    with yt_dlp.YoutubeDL(ydl_opts) as ydl:
        ydl.download([url])

if __name__ == "__main__":
    url = input("Enter YouTube video URL: ")
    print("Downloading and converting video...")
    download_youtube_video_as_mp3(url)
    print("Downloaded and converted to MP3.")
